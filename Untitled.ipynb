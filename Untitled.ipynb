{
 "cells": [
  {
   "cell_type": "code",
   "execution_count": 4,
   "id": "40b5f110",
   "metadata": {},
   "outputs": [],
   "source": [
    "import pandas as pd\n",
    "import json\n",
    "\n",
    "# Reading the test_seen_entities.jsonl file\n",
    "data = []\n",
    "\n",
    "with open('test_seen_entities.jsonl', 'r') as file:\n",
    "    for line in file:\n",
    "        data.append(json.loads(line))\n",
    "\n",
    "# initializing three empty lists that will be used to store the extracted data\n",
    "texts_data = []\n",
    "entities_data = []\n",
    "mentions_data = []\n",
    "\n",
    "for entry in data:\n",
    "    # Extracting context and generating the text_id\n",
    "    context = entry['context']\n",
    "    text_id = len(texts_data) + 1\n",
    "\n",
    "    # Adding entry to the texts_data list as dictionary\n",
    "    texts_data.append({'original_text': context, 'id': text_id})\n",
    "\n",
    "    # Adding entries to entities and mentions list\n",
    "    mention2entity = entry['mention2entity']\n",
    "    entity2type = entry['entity2type']\n",
    "\n",
    "    for mention, entities in mention2entity.items():\n",
    "        for entity in entities:\n",
    "            entity_id = entity\n",
    "\n",
    "            # Checking if the mention exists in the context\n",
    "            if mention in context:\n",
    "                span_start = context.index(mention)\n",
    "                span_end = span_start + len(mention)\n",
    "                span = mention\n",
    "\n",
    "                # Adding entry to the entities list\n",
    "                entities_data.append({'qid': entity_id})\n",
    "\n",
    "                # Adding entry to the mentions list\n",
    "                mentions_data.append(\n",
    "                    {'text_id': text_id, 'entity_id': entity_id, 'span_start': span_start, 'span_end': span_end,\n",
    "                     'span': span})\n",
    "\n",
    "# Creating DataFrames from list\n",
    "texts_df = pd.DataFrame(texts_data)\n",
    "entities_df = pd.DataFrame(entities_data)\n",
    "mentions_df = pd.DataFrame(mentions_data)\n",
    "\n",
    "# Saving DataFrames as Parquet files\n",
    "texts_df.to_parquet('train_part10_texts.parquet')\n",
    "entities_df.to_parquet('train_part10_entities.parquet')\n",
    "mentions_df.to_parquet('train_part10_mentions.parquet')"
   ]
  },
  {
   "cell_type": "code",
   "execution_count": null,
   "id": "cad9d1c1",
   "metadata": {},
   "outputs": [],
   "source": []
  }
 ],
 "metadata": {
  "kernelspec": {
   "display_name": "Python 3 (ipykernel)",
   "language": "python",
   "name": "python3"
  },
  "language_info": {
   "codemirror_mode": {
    "name": "ipython",
    "version": 3
   },
   "file_extension": ".py",
   "mimetype": "text/x-python",
   "name": "python",
   "nbconvert_exporter": "python",
   "pygments_lexer": "ipython3",
   "version": "3.10.11"
  }
 },
 "nbformat": 4,
 "nbformat_minor": 5
}
